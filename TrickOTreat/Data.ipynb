{
 "cells": [
  {
   "cell_type": "code",
   "execution_count": 1,
   "metadata": {},
   "outputs": [],
   "source": [
    "import pandas as pd\n",
    "import numpy as np\n",
    "from sklearn import preprocessing \n",
    "label_encoder = preprocessing.LabelEncoder() \n",
    "from sklearn.linear_model import BayesianRidge\n",
    "from sklearn.linear_model import LinearRegression\n",
    "import xgboost as xg \n",
    "from matplotlib import pyplot"
   ]
  },
  {
   "cell_type": "code",
   "execution_count": 2,
   "metadata": {},
   "outputs": [],
   "source": [
    "train_data=pd.read_csv(\"dataset/train.csv\")\n",
    "test_data=pd.read_csv(\"dataset/test.csv\")\n",
    "op_raw=pd.read_csv(\"dataset/test.csv\")"
   ]
  },
  {
   "cell_type": "code",
   "execution_count": 3,
   "metadata": {},
   "outputs": [],
   "source": [
    "def solve(data):\n",
    "    data['instock_date']=data['instock_date'].str[:4]\n",
    "    year=pd.get_dummies(data['instock_date'])\n",
    "    year\n",
    "    data['year_2014']=year['2014']\n",
    "    data['year_2015']=year['2015']\n",
    "    data['year_2016']=year['2016']\n",
    "    \n",
    "    Product_Category=pd.get_dummies(data['Product_Category'])\n",
    "    #data=pd.concat([data,Product_Category],axis=1)\n",
    "    data['Loyalty_customer']=label_encoder.fit_transform(data['Loyalty_customer'])\n",
    "    #stall_no=pd.get_dummies(data['Stall_no'])\n",
    "    #data=pd.concat([data,stall_no],axis=1)\n",
    "    data=data.drop(['year_2014','Stall_no','Product_Category','Market_Category','Customer_name','Product_id','instock_date'],axis=1)\n",
    "\n",
    "    data=data.fillna(data.median())\n",
    "    return data"
   ]
  },
  {
   "cell_type": "code",
   "execution_count": 4,
   "metadata": {},
   "outputs": [],
   "source": [
    "test=solve(test_data)"
   ]
  },
  {
   "cell_type": "code",
   "execution_count": 5,
   "metadata": {},
   "outputs": [],
   "source": [
    "train=solve(train_data)\n"
   ]
  },
  {
   "cell_type": "code",
   "execution_count": 6,
   "metadata": {},
   "outputs": [],
   "source": [
    "train_y=train['Selling_Price']\n",
    "train_x=train.drop(['Selling_Price'],axis=1)\n"
   ]
  },
  {
   "cell_type": "code",
   "execution_count": 7,
   "metadata": {},
   "outputs": [
    {
     "name": "stderr",
     "output_type": "stream",
     "text": [
      "c:\\users\\16063\\appdata\\local\\programs\\python\\python37\\lib\\site-packages\\xgboost\\core.py:587: FutureWarning: Series.base is deprecated and will be removed in a future version\n",
      "  if getattr(data, 'base', None) is not None and \\\n",
      "c:\\users\\16063\\appdata\\local\\programs\\python\\python37\\lib\\site-packages\\xgboost\\core.py:588: FutureWarning: Series.base is deprecated and will be removed in a future version\n",
      "  data.base is not None and isinstance(data, np.ndarray) \\\n"
     ]
    },
    {
     "name": "stdout",
     "output_type": "stream",
     "text": [
      "[12:20:53] WARNING: C:/Jenkins/workspace/xgboost-win64_release_0.90/src/objective/regression_obj.cu:152: reg:linear is now deprecated in favor of reg:squarederror.\n"
     ]
    },
    {
     "data": {
      "text/plain": [
       "XGBRegressor(base_score=0.5, booster='gbtree', colsample_bylevel=1,\n",
       "             colsample_bynode=1, colsample_bytree=1, gamma=0,\n",
       "             importance_type='gain', learning_rate=0.08, max_delta_step=0,\n",
       "             max_depth=8, min_child_weight=1, min_samples_split=4, missing=None,\n",
       "             n_estimators=60, n_jobs=1, nthread=None, objective='reg:linear',\n",
       "             random_state=0, reg_alpha=0, reg_lambda=1, scale_pos_weight=1,\n",
       "             seed=None, silent=None, subsample=1, verbosity=1)"
      ]
     },
     "execution_count": 7,
     "metadata": {},
     "output_type": "execute_result"
    }
   ],
   "source": [
    "import xgboost\n",
    "from xgboost import XGBRegressor\n",
    "model = XGBRegressor(n_estimators=60,max_depth=8,learning_rate=0.08,min_samples_split=4)\n",
    "model.fit(train_x,train_y)"
   ]
  },
  {
   "cell_type": "code",
   "execution_count": 8,
   "metadata": {
    "scrolled": true
   },
   "outputs": [],
   "source": [
    "res=model.predict(test)\n",
    "res=res\n",
    "prod_id=op_raw['Product_id']\n",
    "op=pd.DataFrame({'Product_id':prod_id,'Selling_Price':res})\n",
    "op.to_csv('Result.csv')"
   ]
  },
  {
   "cell_type": "markdown",
   "metadata": {},
   "source": [
    "<h3>Feature Importance<h3>\n",
    "##Feature Importance"
   ]
  },
  {
   "cell_type": "code",
   "execution_count": 9,
   "metadata": {},
   "outputs": [
    {
     "data": {
      "text/html": [
       "<div>\n",
       "<style scoped>\n",
       "    .dataframe tbody tr th:only-of-type {\n",
       "        vertical-align: middle;\n",
       "    }\n",
       "\n",
       "    .dataframe tbody tr th {\n",
       "        vertical-align: top;\n",
       "    }\n",
       "\n",
       "    .dataframe thead th {\n",
       "        text-align: right;\n",
       "    }\n",
       "</style>\n",
       "<table border=\"1\" class=\"dataframe\">\n",
       "  <thead>\n",
       "    <tr style=\"text-align: right;\">\n",
       "      <th></th>\n",
       "      <th>ColName</th>\n",
       "      <th>Value</th>\n",
       "    </tr>\n",
       "  </thead>\n",
       "  <tbody>\n",
       "    <tr>\n",
       "      <th>3</th>\n",
       "      <td>Discount_avail</td>\n",
       "      <td>0.789133</td>\n",
       "    </tr>\n",
       "    <tr>\n",
       "      <th>7</th>\n",
       "      <td>Maximum_price</td>\n",
       "      <td>0.146950</td>\n",
       "    </tr>\n",
       "    <tr>\n",
       "      <th>6</th>\n",
       "      <td>Minimum_price</td>\n",
       "      <td>0.045291</td>\n",
       "    </tr>\n",
       "    <tr>\n",
       "      <th>8</th>\n",
       "      <td>year_2015</td>\n",
       "      <td>0.003486</td>\n",
       "    </tr>\n",
       "    <tr>\n",
       "      <th>1</th>\n",
       "      <td>Grade</td>\n",
       "      <td>0.003264</td>\n",
       "    </tr>\n",
       "    <tr>\n",
       "      <th>9</th>\n",
       "      <td>year_2016</td>\n",
       "      <td>0.003170</td>\n",
       "    </tr>\n",
       "    <tr>\n",
       "      <th>0</th>\n",
       "      <td>Loyalty_customer</td>\n",
       "      <td>0.002788</td>\n",
       "    </tr>\n",
       "    <tr>\n",
       "      <th>2</th>\n",
       "      <td>Demand</td>\n",
       "      <td>0.002156</td>\n",
       "    </tr>\n",
       "    <tr>\n",
       "      <th>5</th>\n",
       "      <td>charges_2 (%)</td>\n",
       "      <td>0.001946</td>\n",
       "    </tr>\n",
       "    <tr>\n",
       "      <th>4</th>\n",
       "      <td>charges_1</td>\n",
       "      <td>0.001815</td>\n",
       "    </tr>\n",
       "  </tbody>\n",
       "</table>\n",
       "</div>"
      ],
      "text/plain": [
       "            ColName     Value\n",
       "3    Discount_avail  0.789133\n",
       "7     Maximum_price  0.146950\n",
       "6     Minimum_price  0.045291\n",
       "8         year_2015  0.003486\n",
       "1             Grade  0.003264\n",
       "9         year_2016  0.003170\n",
       "0  Loyalty_customer  0.002788\n",
       "2            Demand  0.002156\n",
       "5     charges_2 (%)  0.001946\n",
       "4         charges_1  0.001815"
      ]
     },
     "execution_count": 9,
     "metadata": {},
     "output_type": "execute_result"
    }
   ],
   "source": [
    "importance = model.feature_importances_\n",
    "x_data=pd.Series(importance)\n",
    "y_data=pd.Series(train_x.columns)\n",
    "imp_data=pd.DataFrame({'ColName':y_data,'Value':x_data})\n",
    "imp_data.sort_values(by='Value',ascending=False)"
   ]
  },
  {
   "cell_type": "code",
   "execution_count": 10,
   "metadata": {},
   "outputs": [],
   "source": [
    "from sklearn.model_selection import GridSearchCV"
   ]
  },
  {
   "cell_type": "code",
   "execution_count": 11,
   "metadata": {},
   "outputs": [],
   "source": [
    "parameter={'learning_rate':[0.07,0.08,0.2,0.3,0.5],'max_depth':[4,5,6,7,8],'min_samples_split':[5,6,7,8]}\n",
    "clf = XGBRegressor()\n",
    "Cv_gb=GridSearchCV(estimator=clf,param_grid=parameter,cv=5,verbose=10,n_jobs=-1)"
   ]
  },
  {
   "cell_type": "markdown",
   "metadata": {},
   "source": [
    "<h3> Selecting Best Parameters using GridSearchCv <h3>"
   ]
  },
  {
   "cell_type": "code",
   "execution_count": 14,
   "metadata": {},
   "outputs": [
    {
     "name": "stdout",
     "output_type": "stream",
     "text": [
      "Fitting 5 folds for each of 100 candidates, totalling 500 fits\n"
     ]
    },
    {
     "name": "stderr",
     "output_type": "stream",
     "text": [
      "[Parallel(n_jobs=-1)]: Using backend LokyBackend with 4 concurrent workers.\n",
      "[Parallel(n_jobs=-1)]: Done   5 tasks      | elapsed:    6.3s\n",
      "[Parallel(n_jobs=-1)]: Done  10 tasks      | elapsed:    7.3s\n",
      "[Parallel(n_jobs=-1)]: Done  17 tasks      | elapsed:    9.2s\n",
      "[Parallel(n_jobs=-1)]: Done  24 tasks      | elapsed:   11.2s\n",
      "[Parallel(n_jobs=-1)]: Done  33 tasks      | elapsed:   15.3s\n",
      "[Parallel(n_jobs=-1)]: Done  42 tasks      | elapsed:   18.0s\n",
      "[Parallel(n_jobs=-1)]: Done  53 tasks      | elapsed:   22.2s\n",
      "[Parallel(n_jobs=-1)]: Done  64 tasks      | elapsed:   25.4s\n",
      "[Parallel(n_jobs=-1)]: Done  77 tasks      | elapsed:   31.5s\n",
      "[Parallel(n_jobs=-1)]: Done  90 tasks      | elapsed:   36.9s\n",
      "[Parallel(n_jobs=-1)]: Done 105 tasks      | elapsed:   42.8s\n",
      "[Parallel(n_jobs=-1)]: Done 120 tasks      | elapsed:   47.1s\n",
      "[Parallel(n_jobs=-1)]: Done 137 tasks      | elapsed:   52.6s\n",
      "[Parallel(n_jobs=-1)]: Done 154 tasks      | elapsed:   58.0s\n",
      "[Parallel(n_jobs=-1)]: Done 173 tasks      | elapsed:  1.1min\n",
      "[Parallel(n_jobs=-1)]: Done 192 tasks      | elapsed:  1.2min\n",
      "[Parallel(n_jobs=-1)]: Done 213 tasks      | elapsed:  1.3min\n",
      "[Parallel(n_jobs=-1)]: Done 234 tasks      | elapsed:  1.4min\n",
      "[Parallel(n_jobs=-1)]: Done 257 tasks      | elapsed:  1.5min\n",
      "[Parallel(n_jobs=-1)]: Done 280 tasks      | elapsed:  1.7min\n",
      "[Parallel(n_jobs=-1)]: Done 305 tasks      | elapsed:  1.8min\n",
      "[Parallel(n_jobs=-1)]: Done 330 tasks      | elapsed:  1.9min\n",
      "[Parallel(n_jobs=-1)]: Done 357 tasks      | elapsed:  2.1min\n",
      "[Parallel(n_jobs=-1)]: Done 384 tasks      | elapsed:  2.2min\n",
      "[Parallel(n_jobs=-1)]: Done 413 tasks      | elapsed:  2.4min\n",
      "[Parallel(n_jobs=-1)]: Done 442 tasks      | elapsed:  2.6min\n",
      "[Parallel(n_jobs=-1)]: Done 473 tasks      | elapsed:  2.8min\n",
      "[Parallel(n_jobs=-1)]: Done 500 out of 500 | elapsed:  3.0min finished\n"
     ]
    },
    {
     "name": "stdout",
     "output_type": "stream",
     "text": [
      "[12:24:23] WARNING: C:/Jenkins/workspace/xgboost-win64_release_0.90/src/objective/regression_obj.cu:152: reg:linear is now deprecated in favor of reg:squarederror.\n"
     ]
    },
    {
     "data": {
      "text/plain": [
       "GridSearchCV(cv=5, error_score=nan,\n",
       "             estimator=XGBRegressor(base_score=0.5, booster='gbtree',\n",
       "                                    colsample_bylevel=1, colsample_bynode=1,\n",
       "                                    colsample_bytree=1, gamma=0,\n",
       "                                    importance_type='gain', learning_rate=0.1,\n",
       "                                    max_delta_step=0, max_depth=3,\n",
       "                                    min_child_weight=1, missing=None,\n",
       "                                    n_estimators=100, n_jobs=1, nthread=None,\n",
       "                                    objective='reg:linear', random_state=0,\n",
       "                                    reg_alpha=0, reg_lambda=1,\n",
       "                                    scale_pos_weight=1, seed=None, silent=None,\n",
       "                                    subsample=1, verbosity=1),\n",
       "             iid='deprecated', n_jobs=-1,\n",
       "             param_grid={'learning_rate': [0.07, 0.08, 0.2, 0.3, 0.5],\n",
       "                         'max_depth': [4, 5, 6, 7, 8],\n",
       "                         'min_samples_split': [5, 6, 7, 8]},\n",
       "             pre_dispatch='2*n_jobs', refit=True, return_train_score=False,\n",
       "             scoring=None, verbose=10)"
      ]
     },
     "execution_count": 14,
     "metadata": {},
     "output_type": "execute_result"
    }
   ],
   "source": [
    "Cv_gb.fit(train_x,train_y)"
   ]
  },
  {
   "cell_type": "code",
   "execution_count": 13,
   "metadata": {},
   "outputs": [],
   "source": [
    "Cv_gb.best_params_"
   ]
  }
 ],
 "metadata": {
  "kernelspec": {
   "display_name": "Python 3",
   "language": "python",
   "name": "python3"
  },
  "language_info": {
   "codemirror_mode": {
    "name": "ipython",
    "version": 3
   },
   "file_extension": ".py",
   "mimetype": "text/x-python",
   "name": "python",
   "nbconvert_exporter": "python",
   "pygments_lexer": "ipython3",
   "version": "3.7.6"
  }
 },
 "nbformat": 4,
 "nbformat_minor": 2
}
